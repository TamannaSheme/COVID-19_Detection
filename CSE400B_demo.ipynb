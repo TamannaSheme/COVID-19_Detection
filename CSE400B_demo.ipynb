{
 "cells": [
  {
   "cell_type": "code",
   "execution_count": 166,
   "id": "f2744369",
   "metadata": {},
   "outputs": [],
   "source": [
    "import pandas as pd \n",
    "import numpy as np\n",
    "import matplotlib.pyplot as plt\n",
    "import os \n",
    "import shutil\n",
    "import keras \n",
    "from keras.layers import *\n",
    "from keras.models import * \n",
    "from keras.preprocessing import image"
   ]
  },
  {
   "cell_type": "code",
   "execution_count": 151,
   "id": "aea88056",
   "metadata": {},
   "outputs": [],
   "source": [
    "#define Images Path of given dataset\n",
    "\n",
    "IMAGES_PATH = 'Coronahack-Chest-XRay-Dataset/Coronahack-Chest-XRay-Dataset'\n",
    "DATASET_PATH = 'Dataset'"
   ]
  },
  {
   "cell_type": "code",
   "execution_count": 121,
   "id": "1264afab",
   "metadata": {},
   "outputs": [],
   "source": [
    "df = pd.read_csv(\"Chest_xray_Corona_Metadata.csv\")"
   ]
  },
  {
   "cell_type": "code",
   "execution_count": 122,
   "id": "3953c02f",
   "metadata": {},
   "outputs": [
    {
     "data": {
      "text/plain": [
       "(5910, 6)"
      ]
     },
     "execution_count": 122,
     "metadata": {},
     "output_type": "execute_result"
    }
   ],
   "source": [
    "df.shape"
   ]
  },
  {
   "cell_type": "code",
   "execution_count": 123,
   "id": "fe69bd9f",
   "metadata": {},
   "outputs": [
    {
     "data": {
      "text/plain": [
       "5286"
      ]
     },
     "execution_count": 123,
     "metadata": {},
     "output_type": "execute_result"
    }
   ],
   "source": [
    "df_train = df[df[\"Dataset_type\"]==\"TRAIN\"]\n",
    "df_train.shape[0]"
   ]
  },
  {
   "cell_type": "code",
   "execution_count": 124,
   "id": "d30f22c8",
   "metadata": {},
   "outputs": [
    {
     "data": {
      "text/plain": [
       "624"
      ]
     },
     "execution_count": 124,
     "metadata": {},
     "output_type": "execute_result"
    }
   ],
   "source": [
    "df_test = df[df[\"Dataset_type\"]==\"TEST\"]\n",
    "df_test.shape[0]"
   ]
  },
  {
   "cell_type": "code",
   "execution_count": 125,
   "id": "9bdf8062",
   "metadata": {},
   "outputs": [
    {
     "data": {
      "text/plain": [
       "<Figure size 432x288 with 0 Axes>"
      ]
     },
     "metadata": {},
     "output_type": "display_data"
    },
    {
     "data": {
      "image/png": "[encoded data removed]",
      "text/plain": [
       "<Figure size 720x360 with 2 Axes>"
      ]
     },
     "metadata": {
      "needs_background": "light"
     },
     "output_type": "display_data"
    }
   ],
   "source": [
    "#Plotting data train and test data into bar chart\n",
    "\n",
    "title = [\"Train\",\"Test\"]\n",
    "values = [df_train.shape[0],df_test.shape[0]]\n",
    "fig = plt.figure()\n",
    "fig, axes = plt.subplots(nrows=1, ncols=2, figsize=(10, 5))\n",
    "axes[0].bar(title, values)\n",
    "axes[0].set(title='Barchart view',xlabel=\"data splitting\",ylabel=\"frequency\")\n",
    "axes[1].pie(values,labels=title,autopct='%1.1f%%')\n",
    "axes[1].set(title='The percentage of train test data')\n",
    "fig.tight_layout()"
   ]
  },
  {
   "cell_type": "code",
   "execution_count": 119,
   "id": "41f1a16e",
   "metadata": {},
   "outputs": [
    {
     "name": "stdout",
     "output_type": "stream",
     "text": [
      "5286\n"
     ]
    }
   ],
   "source": [
    "count=0\n",
    "for (i,row) in df_train.iterrows():\n",
    "    file_name = row[\"X_ray_image_name\"]\n",
    "    "
   ]
  },
  {
   "cell_type": "code",
   "execution_count": 128,
   "id": "9ee8a22f",
   "metadata": {},
   "outputs": [
    {
     "data": {
      "text/html": [
       "<div>\n",
       "<style scoped>\n",
       "    .dataframe tbody tr th:only-of-type {\n",
       "        vertical-align: middle;\n",
       "    }\n",
       "\n",
       "    .dataframe tbody tr th {\n",
       "        vertical-align: top;\n",
       "    }\n",
       "\n",
       "    .dataframe thead th {\n",
       "        text-align: right;\n",
       "    }\n",
       "</style>\n",
       "<table border=\"1\" class=\"dataframe\">\n",
       "  <thead>\n",
       "    <tr style=\"text-align: right;\">\n",
       "      <th></th>\n",
       "      <th>Unnamed: 0</th>\n",
       "      <th>X_ray_image_name</th>\n",
       "      <th>Label</th>\n",
       "      <th>Dataset_type</th>\n",
       "      <th>Label_2_Virus_category</th>\n",
       "      <th>Label_1_Virus_category</th>\n",
       "    </tr>\n",
       "  </thead>\n",
       "  <tbody>\n",
       "    <tr>\n",
       "      <th>0</th>\n",
       "      <td>0</td>\n",
       "      <td>IM-0128-0001.jpeg</td>\n",
       "      <td>Normal</td>\n",
       "      <td>TRAIN</td>\n",
       "      <td>NaN</td>\n",
       "      <td>NaN</td>\n",
       "    </tr>\n",
       "    <tr>\n",
       "      <th>1</th>\n",
       "      <td>1</td>\n",
       "      <td>IM-0127-0001.jpeg</td>\n",
       "      <td>Normal</td>\n",
       "      <td>TRAIN</td>\n",
       "      <td>NaN</td>\n",
       "      <td>NaN</td>\n",
       "    </tr>\n",
       "    <tr>\n",
       "      <th>2</th>\n",
       "      <td>2</td>\n",
       "      <td>IM-0125-0001.jpeg</td>\n",
       "      <td>Normal</td>\n",
       "      <td>TRAIN</td>\n",
       "      <td>NaN</td>\n",
       "      <td>NaN</td>\n",
       "    </tr>\n",
       "    <tr>\n",
       "      <th>3</th>\n",
       "      <td>3</td>\n",
       "      <td>IM-0122-0001.jpeg</td>\n",
       "      <td>Normal</td>\n",
       "      <td>TRAIN</td>\n",
       "      <td>NaN</td>\n",
       "      <td>NaN</td>\n",
       "    </tr>\n",
       "    <tr>\n",
       "      <th>4</th>\n",
       "      <td>4</td>\n",
       "      <td>IM-0119-0001.jpeg</td>\n",
       "      <td>Normal</td>\n",
       "      <td>TRAIN</td>\n",
       "      <td>NaN</td>\n",
       "      <td>NaN</td>\n",
       "    </tr>\n",
       "    <tr>\n",
       "      <th>...</th>\n",
       "      <td>...</td>\n",
       "      <td>...</td>\n",
       "      <td>...</td>\n",
       "      <td>...</td>\n",
       "      <td>...</td>\n",
       "      <td>...</td>\n",
       "    </tr>\n",
       "    <tr>\n",
       "      <th>5281</th>\n",
       "      <td>5304</td>\n",
       "      <td>1-s2.0-S0929664620300449-gr2_lrg-c.jpg</td>\n",
       "      <td>Pnemonia</td>\n",
       "      <td>TRAIN</td>\n",
       "      <td>COVID-19</td>\n",
       "      <td>Virus</td>\n",
       "    </tr>\n",
       "    <tr>\n",
       "      <th>5282</th>\n",
       "      <td>5305</td>\n",
       "      <td>1-s2.0-S0929664620300449-gr2_lrg-b.jpg</td>\n",
       "      <td>Pnemonia</td>\n",
       "      <td>TRAIN</td>\n",
       "      <td>COVID-19</td>\n",
       "      <td>Virus</td>\n",
       "    </tr>\n",
       "    <tr>\n",
       "      <th>5283</th>\n",
       "      <td>5306</td>\n",
       "      <td>1-s2.0-S0929664620300449-gr2_lrg-a.jpg</td>\n",
       "      <td>Pnemonia</td>\n",
       "      <td>TRAIN</td>\n",
       "      <td>COVID-19</td>\n",
       "      <td>Virus</td>\n",
       "    </tr>\n",
       "    <tr>\n",
       "      <th>5284</th>\n",
       "      <td>5307</td>\n",
       "      <td>1-s2.0-S0140673620303706-fx1_lrg.jpg</td>\n",
       "      <td>Pnemonia</td>\n",
       "      <td>TRAIN</td>\n",
       "      <td>COVID-19</td>\n",
       "      <td>Virus</td>\n",
       "    </tr>\n",
       "    <tr>\n",
       "      <th>5285</th>\n",
       "      <td>5308</td>\n",
       "      <td>01E392EE-69F9-4E33-BFCE-E5C968654078.jpeg</td>\n",
       "      <td>Pnemonia</td>\n",
       "      <td>TRAIN</td>\n",
       "      <td>COVID-19</td>\n",
       "      <td>Virus</td>\n",
       "    </tr>\n",
       "  </tbody>\n",
       "</table>\n",
       "<p>5286 rows × 6 columns</p>\n",
       "</div>"
      ],
      "text/plain": [
       "      Unnamed: 0                           X_ray_image_name     Label  \\\n",
       "0              0                          IM-0128-0001.jpeg    Normal   \n",
       "1              1                          IM-0127-0001.jpeg    Normal   \n",
       "2              2                          IM-0125-0001.jpeg    Normal   \n",
       "3              3                          IM-0122-0001.jpeg    Normal   \n",
       "4              4                          IM-0119-0001.jpeg    Normal   \n",
       "...          ...                                        ...       ...   \n",
       "5281        5304     1-s2.0-S0929664620300449-gr2_lrg-c.jpg  Pnemonia   \n",
       "5282        5305     1-s2.0-S0929664620300449-gr2_lrg-b.jpg  Pnemonia   \n",
       "5283        5306     1-s2.0-S0929664620300449-gr2_lrg-a.jpg  Pnemonia   \n",
       "5284        5307       1-s2.0-S0140673620303706-fx1_lrg.jpg  Pnemonia   \n",
       "5285        5308  01E392EE-69F9-4E33-BFCE-E5C968654078.jpeg  Pnemonia   \n",
       "\n",
       "     Dataset_type Label_2_Virus_category Label_1_Virus_category  \n",
       "0           TRAIN                    NaN                    NaN  \n",
       "1           TRAIN                    NaN                    NaN  \n",
       "2           TRAIN                    NaN                    NaN  \n",
       "3           TRAIN                    NaN                    NaN  \n",
       "4           TRAIN                    NaN                    NaN  \n",
       "...           ...                    ...                    ...  \n",
       "5281        TRAIN               COVID-19                  Virus  \n",
       "5282        TRAIN               COVID-19                  Virus  \n",
       "5283        TRAIN               COVID-19                  Virus  \n",
       "5284        TRAIN               COVID-19                  Virus  \n",
       "5285        TRAIN               COVID-19                  Virus  \n",
       "\n",
       "[5286 rows x 6 columns]"
      ]
     },
     "execution_count": 128,
     "metadata": {},
     "output_type": "execute_result"
    }
   ],
   "source": [
    "df_train"
   ]
  },
  {
   "cell_type": "code",
   "execution_count": 163,
   "id": "651edf1a",
   "metadata": {},
   "outputs": [
    {
     "data": {
      "text/plain": [
       "Unnamed: 0                1342\n",
       "X_ray_image_name          1342\n",
       "Label                     1342\n",
       "Dataset_type              1342\n",
       "Label_2_Virus_category       0\n",
       "Label_1_Virus_category       0\n",
       "dtype: int64"
      ]
     },
     "execution_count": 163,
     "metadata": {},
     "output_type": "execute_result"
    }
   ],
   "source": [
    "Normal = df_train[df_train[\"Label\"]==\"Normal\"]\n",
    "Normal.count()"
   ]
  },
  {
   "cell_type": "code",
   "execution_count": 164,
   "id": "b18447f2",
   "metadata": {},
   "outputs": [
    {
     "name": "stdout",
     "output_type": "stream",
     "text": [
      "Image copy completed\n"
     ]
    }
   ],
   "source": [
    "# Copying Images from (Github) Train and make into a new Dataset\n",
    "count=0\n",
    "for i,row in df_train.iterrows():\n",
    "    if row[\"Label\"]==\"Normal\":\n",
    "        file_name = row[\"X_ray_image_name\"]\n",
    "        source = os.path.join(IMAGES_PATH + '/train/',file_name)\n",
    "        destination = os.path.join(DATASET_PATH + '/Train/Normal/',file_name)\n",
    "        shutil.copy2(source,destination)\n",
    "    elif row[\"Label\"]==\"Pnemonia\":\n",
    "        file_name = row[\"X_ray_image_name\"]\n",
    "        source = os.path.join(IMAGES_PATH + '/train/',file_name)\n",
    "        destination = os.path.join(DATASET_PATH + '/Train/Covid/',file_name)\n",
    "        shutil.copy2(source,destination)\n",
    "print(\"Image copy completed\")"
   ]
  },
  {
   "cell_type": "code",
   "execution_count": 165,
   "id": "2c3f3520",
   "metadata": {},
   "outputs": [
    {
     "name": "stdout",
     "output_type": "stream",
     "text": [
      "Test Image copy completed\n"
     ]
    }
   ],
   "source": [
    "# Copying Images from (Github) Test and make into a new Dataset\n",
    "count=0\n",
    "for i,row in df_test.iterrows():\n",
    "    if row[\"Label\"]==\"Normal\":\n",
    "        file_name = row[\"X_ray_image_name\"]\n",
    "        source = os.path.join(IMAGES_PATH + '/test/',file_name)\n",
    "        destination = os.path.join(DATASET_PATH + '/Test/Normal/',file_name)\n",
    "        shutil.copy2(source,destination)\n",
    "    elif row[\"Label\"]==\"Pnemonia\":\n",
    "        file_name = row[\"X_ray_image_name\"]\n",
    "        source = os.path.join(IMAGES_PATH + '/test/',file_name)\n",
    "        destination = os.path.join(DATASET_PATH + '/Test/Covid/',file_name)\n",
    "        shutil.copy2(source,destination)\n",
    "print(\"Test Image copy completed\")"
   ]
  },
  {
   "cell_type": "code",
   "execution_count": 167,
   "id": "c2e26c8b",
   "metadata": {},
   "outputs": [],
   "source": [
    "# Creating the path for fitting the model\n",
    "\n",
    "TRAIN_PATH = DATASET_PATH + '/Train/'\n",
    "VAL_PATH = DATASET_PATH + '/Test/'"
   ]
  },
  {
   "cell_type": "code",
   "execution_count": 170,
   "id": "9348600d",
   "metadata": {},
   "outputs": [],
   "source": [
    "#Creating the CNN model \n",
    "model = Sequential()\n",
    "model.add(Conv2D(32,kernel_size=(3,3),activation='relu',input_shape=(224,224,3)))\n",
    "model.add(Conv2D(64,(3,3),activation='relu'))\n",
    "model.add(MaxPooling2D(pool_size=(2,2)))\n",
    "model.add(Dropout(0.25))\n",
    "\n",
    "model.add(Conv2D(64,(3,3),activation='relu'))\n",
    "model.add(MaxPooling2D(pool_size=(2,2)))\n",
    "model.add(Dropout(0.25))\n",
    "\n",
    "model.add(Conv2D(128,(3,3),activation='relu'))\n",
    "model.add(MaxPooling2D(pool_size=(2,2)))\n",
    "model.add(Dropout(0.25))\n",
    "\n",
    "model.add(Flatten())\n",
    "model.add(Dense(64,activation='relu'))\n",
    "model.add(Dropout(0.5))\n",
    "model.add(Dense(1,activation='sigmoid'))\n",
    "\n",
    "\n",
    "model.compile(loss=keras.losses.binary_crossentropy, optimizer='adam',metrics=[\"accuracy\"])"
   ]
  },
  {
   "cell_type": "code",
   "execution_count": 171,
   "id": "6631e276",
   "metadata": {},
   "outputs": [
    {
     "name": "stdout",
     "output_type": "stream",
     "text": [
      "Model: \"sequential\"\n",
      "_________________________________________________________________\n",
      " Layer (type)                Output Shape              Param #   \n",
      "=================================================================\n",
      " conv2d (Conv2D)             (None, 222, 222, 32)      896       \n",
      "                                                                 \n",
      " conv2d_1 (Conv2D)           (None, 220, 220, 64)      18496     \n",
      "                                                                 \n",
      " max_pooling2d (MaxPooling2D  (None, 110, 110, 64)     0         \n",
      " )                                                               \n",
      "                                                                 \n",
      " dropout (Dropout)           (None, 110, 110, 64)      0         \n",
      "                                                                 \n",
      " conv2d_2 (Conv2D)           (None, 108, 108, 64)      36928     \n",
      "                                                                 \n",
      " max_pooling2d_1 (MaxPooling  (None, 54, 54, 64)       0         \n",
      " 2D)                                                             \n",
      "                                                                 \n",
      " dropout_1 (Dropout)         (None, 54, 54, 64)        0         \n",
      "                                                                 \n",
      " conv2d_3 (Conv2D)           (None, 52, 52, 128)       73856     \n",
      "                                                                 \n",
      " max_pooling2d_2 (MaxPooling  (None, 26, 26, 128)      0         \n",
      " 2D)                                                             \n",
      "                                                                 \n",
      " dropout_2 (Dropout)         (None, 26, 26, 128)       0         \n",
      "                                                                 \n",
      " flatten (Flatten)           (None, 86528)             0         \n",
      "                                                                 \n",
      " dense (Dense)               (None, 64)                5537856   \n",
      "                                                                 \n",
      " dropout_3 (Dropout)         (None, 64)                0         \n",
      "                                                                 \n",
      " dense_1 (Dense)             (None, 1)                 65        \n",
      "                                                                 \n",
      "=================================================================\n",
      "Total params: 5,668,097\n",
      "Trainable params: 5,668,097\n",
      "Non-trainable params: 0\n",
      "_________________________________________________________________\n"
     ]
    }
   ],
   "source": [
    "model.summary()"
   ]
  },
  {
   "cell_type": "code",
   "execution_count": 179,
   "id": "76c4c74c",
   "metadata": {},
   "outputs": [],
   "source": [
    "train_datagen = image.ImageDataGenerator(\n",
    "    rescale=1./255,\n",
    "    shear_range=0.2,\n",
    "    zoom_range=0.2,\n",
    "    horizontal_flip=True,\n",
    ")\n",
    "\n",
    "test_datagen = image.ImageDataGenerator(rescale=1./255)"
   ]
  },
  {
   "cell_type": "code",
   "execution_count": 180,
   "id": "4269f4c7",
   "metadata": {},
   "outputs": [
    {
     "name": "stdout",
     "output_type": "stream",
     "text": [
      "Found 5286 images belonging to 2 classes.\n"
     ]
    }
   ],
   "source": [
    "train_generator = train_datagen.flow_from_directory(\n",
    "    TRAIN_PATH,\n",
    "    target_size=(224,224),\n",
    "    batch_size=32,\n",
    "    class_mode  = 'binary'\n",
    ")"
   ]
  },
  {
   "cell_type": "code",
   "execution_count": 181,
   "id": "b9f17ce3",
   "metadata": {},
   "outputs": [
    {
     "data": {
      "text/plain": [
       "{'Covid': 0, 'Normal': 1}"
      ]
     },
     "execution_count": 181,
     "metadata": {},
     "output_type": "execute_result"
    }
   ],
   "source": [
    "train_generator.class_indices"
   ]
  },
  {
   "cell_type": "code",
   "execution_count": 182,
   "id": "91c51668",
   "metadata": {},
   "outputs": [
    {
     "name": "stdout",
     "output_type": "stream",
     "text": [
      "Found 624 images belonging to 2 classes.\n"
     ]
    }
   ],
   "source": [
    "validation_generator = test_datagen.flow_from_directory(\n",
    "    VAL_PATH,\n",
    "    target_size=(224,224),\n",
    "    batch_size=32,\n",
    "    class_mode  = 'binary'\n",
    ")"
   ]
  },
  {
   "cell_type": "code",
   "execution_count": 183,
   "id": "326881e0",
   "metadata": {},
   "outputs": [
    {
     "name": "stderr",
     "output_type": "stream",
     "text": [
      "C:\\Users\\User\\AppData\\Local\\Temp/ipykernel_2452/3585063659.py:1: UserWarning: `Model.fit_generator` is deprecated and will be removed in a future version. Please use `Model.fit`, which supports generators.\n",
      "  hist = model.fit_generator(\n"
     ]
    },
    {
     "name": "stdout",
     "output_type": "stream",
     "text": [
      "Epoch 1/10\n",
      "8/8 [==============================] - 16s 2s/step - loss: 1.6560 - accuracy: 0.5938 - val_loss: 0.7051 - val_accuracy: 0.5625\n",
      "Epoch 2/10\n",
      "8/8 [==============================] - 15s 2s/step - loss: 0.5883 - accuracy: 0.7500 - val_loss: 0.7095 - val_accuracy: 0.5156\n",
      "Epoch 3/10\n",
      "8/8 [==============================] - 14s 2s/step - loss: 0.5212 - accuracy: 0.7930 - val_loss: 0.5784 - val_accuracy: 0.7500\n",
      "Epoch 4/10\n",
      "8/8 [==============================] - 14s 2s/step - loss: 0.5796 - accuracy: 0.7578 - val_loss: 0.6575 - val_accuracy: 0.6562\n",
      "Epoch 5/10\n",
      "8/8 [==============================] - 15s 2s/step - loss: 0.5954 - accuracy: 0.7344 - val_loss: 0.6936 - val_accuracy: 0.5938\n",
      "Epoch 6/10\n",
      "8/8 [==============================] - 15s 2s/step - loss: 0.5593 - accuracy: 0.7422 - val_loss: 0.5943 - val_accuracy: 0.7344\n",
      "Epoch 7/10\n",
      "8/8 [==============================] - 14s 2s/step - loss: 0.5766 - accuracy: 0.7578 - val_loss: 0.6356 - val_accuracy: 0.6719\n",
      "Epoch 8/10\n",
      "8/8 [==============================] - 14s 2s/step - loss: 0.5905 - accuracy: 0.7383 - val_loss: 0.6353 - val_accuracy: 0.6719\n",
      "Epoch 9/10\n",
      "8/8 [==============================] - 15s 2s/step - loss: 0.5654 - accuracy: 0.7500 - val_loss: 0.6513 - val_accuracy: 0.6250\n",
      "Epoch 10/10\n",
      "8/8 [==============================] - 15s 2s/step - loss: 0.5706 - accuracy: 0.7344 - val_loss: 0.6035 - val_accuracy: 0.6875\n"
     ]
    }
   ],
   "source": [
    "hist = model.fit_generator(\n",
    "    train_generator,\n",
    "    steps_per_epoch=8,\n",
    "    epochs=10,\n",
    "    validation_data=validation_generator,\n",
    "    validation_steps=2\n",
    ")"
   ]
  },
  {
   "cell_type": "code",
   "execution_count": 186,
   "id": "b5df7d1e",
   "metadata": {},
   "outputs": [
    {
     "name": "stderr",
     "output_type": "stream",
     "text": [
      "C:\\Users\\User\\AppData\\Local\\Temp/ipykernel_2452/2958261026.py:3: UserWarning: `Model.evaluate_generator` is deprecated and will be removed in a future version. Please use `Model.evaluate`, which supports generators.\n",
      "  model.evaluate_generator(train_generator)\n"
     ]
    },
    {
     "data": {
      "text/plain": [
       "[0.5555747747421265, 0.7461218237876892]"
      ]
     },
     "execution_count": 186,
     "metadata": {},
     "output_type": "execute_result"
    }
   ],
   "source": [
    "#evaluate \n",
    "\n",
    "model.evaluate_generator(train_generator)"
   ]
  },
  {
   "cell_type": "code",
   "execution_count": 188,
   "id": "f37d75b4",
   "metadata": {},
   "outputs": [
    {
     "name": "stderr",
     "output_type": "stream",
     "text": [
      "C:\\Users\\User\\AppData\\Local\\Temp/ipykernel_2452/3378472596.py:1: UserWarning: `Model.evaluate_generator` is deprecated and will be removed in a future version. Please use `Model.evaluate`, which supports generators.\n",
      "  model.evaluate_generator(validation_generator)\n"
     ]
    },
    {
     "data": {
      "text/plain": [
       "[0.6327773332595825, 0.625]"
      ]
     },
     "execution_count": 188,
     "metadata": {},
     "output_type": "execute_result"
    }
   ],
   "source": [
    "model.evaluate_generator(validation_generator)"
   ]
  },
  {
   "cell_type": "code",
   "execution_count": null,
   "id": "4f5db747",
   "metadata": {},
   "outputs": [],
   "source": []
  },
  {
   "cell_type": "code",
   "execution_count": null,
   "id": "fba0a23f",
   "metadata": {},
   "outputs": [],
   "source": []
  },
  {
   "cell_type": "code",
   "execution_count": null,
   "id": "1c1f400d",
   "metadata": {},
   "outputs": [],
   "source": []
  }
 ],
 "metadata": {
  "kernelspec": {
   "display_name": "Python 3 (ipykernel)",
   "language": "python",
   "name": "python3"
  },
  "language_info": {
   "codemirror_mode": {
    "name": "ipython",
    "version": 3
   },
   "file_extension": ".py",
   "mimetype": "text/x-python",
   "name": "python",
   "nbconvert_exporter": "python",
   "pygments_lexer": "ipython3",
   "version": "3.9.7"
  }
 },
 "nbformat": 4,
 "nbformat_minor": 5
}
